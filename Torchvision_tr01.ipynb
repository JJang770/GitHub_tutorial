{
  "nbformat": 4,
  "nbformat_minor": 0,
  "metadata": {
    "colab": {
      "private_outputs": true,
      "provenance": [],
      "authorship_tag": "ABX9TyNARYr3tjWe8EdLznQ6WbWv",
      "include_colab_link": true
    },
    "kernelspec": {
      "name": "python3",
      "display_name": "Python 3"
    },
    "language_info": {
      "name": "python"
    }
  },
  "cells": [
    {
      "cell_type": "markdown",
      "metadata": {
        "id": "view-in-github",
        "colab_type": "text"
      },
      "source": [
        "<a href=\"https://colab.research.google.com/github/JJang770/GitHub_tutorial/blob/main/Torchvision_tr01.ipynb\" target=\"_parent\"><img src=\"https://colab.research.google.com/assets/colab-badge.svg\" alt=\"Open In Colab\"/></a>"
      ]
    },
    {
      "cell_type": "code",
      "source": [
        "from google.colab import drive\n",
        "drive.mount('./drive')"
      ],
      "metadata": {
        "id": "jad4UL5zAARR"
      },
      "execution_count": null,
      "outputs": []
    },
    {
      "cell_type": "code",
      "source": [
        "!pip3 install torchinfo"
      ],
      "metadata": {
        "id": "3hJFpiuXyPGe"
      },
      "execution_count": null,
      "outputs": []
    },
    {
      "cell_type": "code",
      "source": [
        "import torch\n",
        "import torchvision\n",
        "import torchvision.datasets as datasets\n",
        "import torchvision.models as models\n",
        "import torchvision.transforms as transforms\n",
        "\n",
        "from torchinfo import summary\n",
        "\n",
        "import numpy as np\n",
        "from PIL import Image\n",
        "import matplotlib.pyplot as plt\n",
        "from matplotlib.path import Path\n",
        "import matplotlib.patches as patches\n",
        "\n",
        "print(f'Pytorch version: {torch.__version__}')\n",
        "print(f'torchvision version: {torchvision.__version__}')"
      ],
      "metadata": {
        "id": "UQTvU2FGwrn8"
      },
      "execution_count": null,
      "outputs": []
    },
    {
      "cell_type": "code",
      "source": [
        "IMG_SIZE = 480\n",
        "THRESHOLD = 0.95"
      ],
      "metadata": {
        "id": "JdDeGJgEylAP"
      },
      "execution_count": null,
      "outputs": []
    },
    {
      "cell_type": "markdown",
      "source": [
        "https://pytorch.org/docs/stable/torchvision/models.html"
      ],
      "metadata": {
        "id": "D7P3pyIvy_Aw"
      }
    },
    {
      "cell_type": "code",
      "source": [
        "model = models.detection.keypointrcnn_resnet50_fpn(pretrained=True).eval()"
      ],
      "metadata": {
        "id": "IJdVTVip7Xcw"
      },
      "execution_count": null,
      "outputs": []
    },
    {
      "cell_type": "code",
      "source": [
        "summary(model)"
      ],
      "metadata": {
        "id": "RzXpc_Kw7v3T"
      },
      "execution_count": null,
      "outputs": []
    },
    {
      "cell_type": "code",
      "source": [
        "img = Image.open('/content/drive/MyDrive/fastcampus_vision/imgs/07.jpg')\n",
        "img = img.resize((IMG_SIZE,int(img.height*IMG_SIZE/img.width)))\n",
        "\n",
        "plt.figure(figsize=(16,16))\n",
        "plt.imshow(img)"
      ],
      "metadata": {
        "id": "oa__cysx8D_D"
      },
      "execution_count": null,
      "outputs": []
    },
    {
      "cell_type": "code",
      "source": [
        "trf = transforms.Compose([transforms.ToTensor()])"
      ],
      "metadata": {
        "id": "l3j2HQkhCALb"
      },
      "execution_count": null,
      "outputs": []
    },
    {
      "cell_type": "code",
      "source": [
        "input_img = trf(img)\n",
        "print(input_img.shape)\n",
        "input = input_img.unsqueeze(0)\n",
        "print(input.shape)"
      ],
      "metadata": {
        "id": "lV451SEtCdkF"
      },
      "execution_count": null,
      "outputs": []
    },
    {
      "cell_type": "code",
      "source": [
        "out = model(input)[0]"
      ],
      "metadata": {
        "id": "4lpGCkpnHkYg"
      },
      "execution_count": null,
      "outputs": []
    },
    {
      "cell_type": "code",
      "source": [
        "print(out)"
      ],
      "metadata": {
        "id": "wZMKq4XDur1h"
      },
      "execution_count": null,
      "outputs": []
    },
    {
      "cell_type": "code",
      "source": [
        "print(f'out type: {type(out)}')\n",
        "print(f'out keys: {out.keys()}')"
      ],
      "metadata": {
        "id": "dnE2c-l4KZOJ"
      },
      "execution_count": null,
      "outputs": []
    },
    {
      "cell_type": "code",
      "source": [
        "box_arr = out['boxes']\n",
        "N = box_arr.shape[0]\n",
        "print(f'boxes shape: {box_arr.shape}')\n",
        "print(f'N :{N}')"
      ],
      "metadata": {
        "id": "0KZRnCaAKq0e"
      },
      "execution_count": null,
      "outputs": []
    },
    {
      "cell_type": "markdown",
      "source": [],
      "metadata": {
        "id": "juMdfJIuXmce"
      }
    },
    {
      "cell_type": "markdown",
      "metadata": {
        "id": "hiwl1HvqXNPv"
      },
      "source": [
        "# Inference\n",
        "\n",
        "- boxes (Tensor[N, 4]): the ground-truth boxes in [x0, y0, x1, y1] format, with values between 0 and H and 0 and W\n",
        "- labels (Tensor[N]): the class label for each ground-truth box\n",
        "- keypoints (Tensor[N, K, 3]): the K keypoints location for each of the N instances, in the format [x, y, visibility], where visibility=0 means that the keypoint is not visible."
      ]
    },
    {
      "cell_type": "code",
      "source": [
        "codes = [\n",
        "    Path.MOVETO,\n",
        "    Path.LINETO,\n",
        "    Path.LINETO\n",
        "]\n",
        "\n",
        "fig, ax = plt.subplots(1,figsize=(16,16))\n",
        "ax.imshow(img)\n",
        "\n",
        "for box, score, keypoints in zip(out['boxes'], out['scores'], out['keypoints']):\n",
        "  score = score.detach().numpy()\n",
        "  print(f'score : {score:.5f}')\n",
        "  if score < THRESHOLD:\n",
        "    continue\n",
        "\n",
        "  box = box.detach().numpy()\n",
        "  keypoints = keypoints.detach().numpy()[:,:2]\n",
        "  print(box[:4])\n",
        "  rect = patches.Rectangle((box[0], box[1]), box[2]-box[0], box[3]-box[1], linewidth=2, edgecolor='b', facecolor='none')\n",
        "  ax.add_patch(rect)\n",
        "\n",
        "  #17 keypoints\n",
        "  for k in keypoints:\n",
        "    circle = patches.Circle((k[0],k[1]),radius=2, facecolor='r')\n",
        "    ax.add_patch(circle)\n",
        "\n",
        "  #draw path\n",
        "  #left arm\n",
        "  path = Path(keypoints[5:10:2], codes)\n",
        "  line = patches.PathPatch(path, linewidth=2, facecolor='none', edgecolor='r')\n",
        "  ax.add_patch(line)\n",
        "\n",
        "  #right arm\n",
        "  path = Path(keypoints[6:11:2],codes)\n",
        "  line = patches.PathPatch(path, linewidth=2, facecolor='none', edgecolor='r')\n",
        "  ax.add_patch(line)\n",
        "\n",
        "  #left leg\n",
        "  path = Path(keypoints[11:16:2],codes)\n",
        "  line = patches.PathPatch(path, linewidth=2, facecolor='none', edgecolor='r')\n",
        "  ax.add_patch(line)\n",
        "\n",
        "  #right leg\n",
        "  path = Path(keypoints[12:17:2],codes)\n",
        "  line = patches.PathPatch(path, linewidth=2, facecolor='none', edgecolor='r')\n",
        "  ax.add_patch(line)\n"
      ],
      "metadata": {
        "id": "VFwvKIG0OvFL"
      },
      "execution_count": null,
      "outputs": []
    },
    {
      "cell_type": "code",
      "source": [
        "fig, ax = plt.subplots(1,figsize=(16,16))\n",
        "ax.imshow(img)"
      ],
      "metadata": {
        "id": "PFu2-ijUt0kT"
      },
      "execution_count": null,
      "outputs": []
    }
  ]
}