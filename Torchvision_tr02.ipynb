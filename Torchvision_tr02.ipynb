{
  "nbformat": 4,
  "nbformat_minor": 0,
  "metadata": {
    "colab": {
      "private_outputs": true,
      "provenance": [],
      "authorship_tag": "ABX9TyPv5Ql1iAAwE76DvTpuUBWE",
      "include_colab_link": true
    },
    "kernelspec": {
      "name": "python3",
      "display_name": "Python 3"
    },
    "language_info": {
      "name": "python"
    }
  },
  "cells": [
    {
      "cell_type": "markdown",
      "metadata": {
        "id": "view-in-github",
        "colab_type": "text"
      },
      "source": [
        "<a href=\"https://colab.research.google.com/github/JJang770/GitHub_tutorial/blob/main/Torchvision_tr02.ipynb\" target=\"_parent\"><img src=\"https://colab.research.google.com/assets/colab-badge.svg\" alt=\"Open In Colab\"/></a>"
      ]
    },
    {
      "cell_type": "code",
      "source": [
        "from google.colab import drive\n",
        "drive.mount('./drive')"
      ],
      "metadata": {
        "id": "k75d4WVFCR2h"
      },
      "execution_count": null,
      "outputs": []
    },
    {
      "cell_type": "code",
      "execution_count": null,
      "metadata": {
        "id": "5r_tFrVbAdG-"
      },
      "outputs": [],
      "source": [
        "!pip3 install torchinfo"
      ]
    },
    {
      "cell_type": "code",
      "source": [
        "import torch\n",
        "import torch.nn as nn\n",
        "import torch.optim as optim\n",
        "from torch.utils.data import Dataset, DataLoader\n",
        "\n",
        "import torchvision\n",
        "import torchvision.datasets as datasets\n",
        "import torchvision.transforms as transforms\n",
        "import torchvision.models as models\n",
        "\n",
        "from torchinfo import summary\n",
        "\n",
        "import numpy as np\n",
        "import matplotlib.pyplot as plt\n",
        "from matplotlib.path import Path\n",
        "import matplotlib.patches as patches\n",
        "\n",
        "from PIL import Image\n"
      ],
      "metadata": {
        "id": "mW14liCKAq4h"
      },
      "execution_count": null,
      "outputs": []
    },
    {
      "cell_type": "code",
      "source": [
        "print(f'torch version:{torch.__version__}')\n",
        "print(f'torchvision version:{torchvision.__version__}')"
      ],
      "metadata": {
        "id": "2vJHGP-RBx5Y"
      },
      "execution_count": null,
      "outputs": []
    },
    {
      "cell_type": "code",
      "source": [
        "model = models.detection.keypointrcnn_resnet50_fpn(pretrained=True).eval()"
      ],
      "metadata": {
        "id": "lys9PV9zJPZf"
      },
      "execution_count": null,
      "outputs": []
    },
    {
      "cell_type": "code",
      "source": [
        "summary(model)"
      ],
      "metadata": {
        "id": "88LpNabDJ8AO"
      },
      "execution_count": null,
      "outputs": []
    },
    {
      "cell_type": "code",
      "source": [
        "TF = transforms.Compose([transforms.ToTensor()])"
      ],
      "metadata": {
        "id": "TC_uEUi6ElT4"
      },
      "execution_count": null,
      "outputs": []
    },
    {
      "cell_type": "code",
      "source": [
        "IMG_SIZE=480\n",
        "THRESHOLD=0.95"
      ],
      "metadata": {
        "id": "BUGnEXPKGFFq"
      },
      "execution_count": null,
      "outputs": []
    },
    {
      "cell_type": "code",
      "source": [
        "imgRaw = Image.open('/content/drive/MyDrive/fastcampus_vision/imgs/07.jpg')\n",
        "print(f'imgRaw type:{type(imgRaw)}')\n",
        "print(f'imgRaw width:{imgRaw.width} height:{imgRaw.height}]\\n')\n",
        "img = imgRaw.resize((IMG_SIZE,int(imgRaw.height*IMG_SIZE/imgRaw.width)))\n",
        "print(f'img type:{type(img)}')\n",
        "print(f'img width:{img.width} height:{img.height} size:{img.size}')\n"
      ],
      "metadata": {
        "id": "9dYerXTTCNsi"
      },
      "execution_count": null,
      "outputs": []
    },
    {
      "cell_type": "code",
      "source": [
        "plt.figure(figsize=(16,16))\n",
        "plt.imshow(img)"
      ],
      "metadata": {
        "id": "LEgX8jhTEy1a"
      },
      "execution_count": null,
      "outputs": []
    },
    {
      "cell_type": "code",
      "source": [
        "imgxx = TF(img)\n",
        "print(f'imgxx type:{type(imgxx)}, shape:{imgxx.shape}\\n')\n",
        "imgX = imgxx.unsqueeze(0)\n",
        "print(f'imgX type:{type(imgX)}, shape:{imgX.shape}')"
      ],
      "metadata": {
        "id": "0ANr09IbLKEw"
      },
      "execution_count": null,
      "outputs": []
    },
    {
      "cell_type": "code",
      "source": [
        "out = model(imgX)[0]\n",
        "print(type(out), out.keys())"
      ],
      "metadata": {
        "id": "jnPeR0-hWwsr"
      },
      "execution_count": null,
      "outputs": []
    },
    {
      "cell_type": "code",
      "source": [
        "codes =[\n",
        "    Path.MOVETO,\n",
        "    Path.LINETO,\n",
        "    Path.LINETO\n",
        "]\n",
        "\n",
        "fig, ax = plt.subplots(1,figsize=(16,16))\n",
        "ax.imshow(img)\n",
        "\n",
        "for box, score, keypoints in zip(out['boxes'], out['scores'], out['keypoints']):\n",
        "  score = score.detach().numpy()\n",
        "  if (score < THRESHOLD):\n",
        "    continue\n",
        "\n",
        "  box = box.detach().numpy()\n",
        "  print(f'keypoints original shape:{keypoints.shape}')\n",
        "  keypoints = keypoints.detach().numpy()[:,:2]\n",
        "  print(f'keypoints final shape:{keypoints.shape}')\n",
        "\n",
        "  #draw boxes\n",
        "  pxRect = patches.Rectangle((box[0],box[1]),box[2]-box[0],box[3]-box[1],linewidth=1,edgecolor='b',facecolor='none')\n",
        "  ax.add_patch(pxRect)\n",
        "\n",
        "  #draw keypoints\n",
        "  for p in keypoints:\n",
        "    pxCircle = patches.Circle((p[0],p[1]),radius=2,facecolor='r')\n",
        "    ax.add_patch(pxCircle)\n",
        "\n",
        "  #draw left arm\n",
        "  path = Path(keypoints[5:10:2],codes)\n",
        "  pxPath = patches.PathPatch(path,linewidth=2,edgecolor='r',facecolor='none')\n",
        "  ax.add_patch(pxPath)\n",
        "\n",
        "  #draw right arm\n",
        "  path = Path(keypoints[6:11:2],codes)\n",
        "  pxPath = patches.PathPatch(path,linewidth=2,edgecolor='r',facecolor='none')\n",
        "  ax.add_patch(pxPath)\n",
        "\n",
        "  #draw left leg\n",
        "  path = Path(keypoints[11:16:2],codes)\n",
        "  pxPath = patches.PathPatch(path,linewidth=2,edgecolor='r',facecolor='none')\n",
        "  ax.add_patch(pxPath)\n",
        "\n",
        "  #draw right leg\n",
        "  path = Path(keypoints[12:17:2],codes)\n",
        "  pxPath = patches.PathPatch(path,linewidth=2,edgecolor='r',facecolor='none')\n",
        "  ax.add_patch(pxPath)"
      ],
      "metadata": {
        "id": "pcKchjJqXRk0"
      },
      "execution_count": null,
      "outputs": []
    }
  ]
}